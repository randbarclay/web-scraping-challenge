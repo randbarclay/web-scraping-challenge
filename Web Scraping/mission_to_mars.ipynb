{
 "cells": [
  {
   "cell_type": "code",
   "execution_count": 1,
   "metadata": {},
   "outputs": [],
   "source": [
    "from splinter import Browser\n",
    "from bs4 import BeautifulSoup\n",
    "import requests as r\n",
    "import pandas as pd\n",
    "import time"
   ]
  },
  {
   "cell_type": "code",
   "execution_count": 2,
   "metadata": {},
   "outputs": [],
   "source": [
    "#url to scrape\n",
    "url = 'https://mars.nasa.gov/news/'\n",
    "executable_path = {'executable_path':'chromedriver.exe'}\n",
    "\n",
    "#initiating splinter\n",
    "browser = Browser('chrome', **executable_path, headless=False)\n",
    "browser.visit(url)"
   ]
  },
  {
   "cell_type": "code",
   "execution_count": 3,
   "metadata": {},
   "outputs": [
    {
     "name": "stdout",
     "output_type": "stream",
     "text": [
      "News Title: The MarCO Mission Comes to an End\n",
      "Teaser: The pair of briefcase-sized satellites made history when they sailed past Mars in 2019.\n"
     ]
    }
   ],
   "source": [
    "html = browser.html\n",
    "soup = BeautifulSoup(html,'html.parser')\n",
    "news_title = soup.find(\"div\",class_=\"content_title\").text\n",
    "news_p = soup.find(\"div\",class_=\"article_teaser_body\").text\n",
    "\n",
    "print(f\"News Title: {news_title}\")\n",
    "print(f\"Teaser: {news_p}\")"
   ]
  },
  {
   "cell_type": "code",
   "execution_count": null,
   "metadata": {},
   "outputs": [],
   "source": [
    "#url to scrape\n",
    "image_url = 'https://www.jpl.nasa.gov/spaceimages/?search=&category=Mars'\n",
    "browser.visit(image_url)\n",
    "\n",
    "#instruct splinter to click button with the text 'full image'\n",
    "browser.click_link_by_partial_text('FULL IMAGE')\n",
    "\n",
    "#this makes splinter wait for the browser to load\n",
    "time.sleep(5)\n",
    "\n",
    "#instruct splinter to click button with text 'more info'\n",
    "browser.click_link_by_partial_text('more info')\n",
    "\n",
    "#initiate beautiful soup on splinter's page to scrape the image URL.\n",
    "image_html = browser.html\n",
    "soup = BeautifulSoup(image_html,\"html.parser\")\n",
    "scraped_image_url = soup.select_one(\"figure.lede a img\").get(\"src\")\n",
    "featured_image_url = \"https://www.jpl.nasa.gov\"+ scraped_image_url\n",
    "\n",
    "print(featured_image_url)"
   ]
  },
  {
   "cell_type": "code",
   "execution_count": null,
   "metadata": {},
   "outputs": [],
   "source": [
    "#Scraping twitter for weather\n",
    "\n",
    "tweet_url = \"https://twitter.com/marswxreport?lang=en\"\n",
    "response = r.get(tweet_url)\n",
    "soup =BeautifulSoup(response.text, \"html.parser\")\n",
    "weather_tweet = soup.find('div', class_=\"js-tweet-text-container\").text.strip()\n",
    "print(weather_tweet)"
   ]
  },
  {
   "cell_type": "code",
   "execution_count": null,
   "metadata": {},
   "outputs": [],
   "source": [
    "#scrape mars facts and create dataframe from table\n",
    "\n",
    "mars_facts_url = 'https://space-facts.com/mars/'\n",
    "mars_facts_table = pd.read_html(mars_facts_url)\n",
    "mars_facts_table[0]\n",
    "mars_facts_df = mars_facts_table[0]\n",
    "mars_facts_df.columns = ['Paramter','Value']\n",
    "mars_facts_df.set_index('Paramter', inplace=True)\n",
    "mars_facts_df.head()"
   ]
  },
  {
   "cell_type": "code",
   "execution_count": null,
   "metadata": {},
   "outputs": [],
   "source": [
    "#convert to html string\n",
    "mars_facts_html_table = mars_facts_df.to_html()\n",
    "mars_facts_html_table = mars_facts_html_table.replace('\\n', '')\n",
    "mars_facts_html_table\n"
   ]
  },
  {
   "cell_type": "code",
   "execution_count": 3,
   "metadata": {},
   "outputs": [
    {
     "data": {
      "text/plain": [
       "[{'title': 'Cerberus Hemisphere Enhanced',\n",
       "  'img_url': 'https://astrogeology.usgs.gov/cache/images/dfaf3849e74bf973b59eb50dab52b583_cerberus_enhanced.tif_thumb.png'},\n",
       " {'title': 'Schiaparelli Hemisphere Enhanced',\n",
       "  'img_url': 'https://astrogeology.usgs.gov/cache/images/7677c0a006b83871b5a2f66985ab5857_schiaparelli_enhanced.tif_thumb.png'},\n",
       " {'title': 'Syrtis Major Hemisphere Enhanced',\n",
       "  'img_url': 'https://astrogeology.usgs.gov/cache/images/aae41197e40d6d4f3ea557f8cfe51d15_syrtis_major_enhanced.tif_thumb.png'},\n",
       " {'title': 'Valles Marineris Hemisphere Enhanced',\n",
       "  'img_url': 'https://astrogeology.usgs.gov/cache/images/04085d99ec3713883a9a57f42be9c725_valles_marineris_enhanced.tif_thumb.png'}]"
      ]
     },
     "execution_count": 3,
     "metadata": {},
     "output_type": "execute_result"
    }
   ],
   "source": [
    "hemisphere_url = \"https://astrogeology.usgs.gov/search/results?q=hemisphere+enhanced&k1=target&v1=Mars\"\n",
    "browser.visit(hemisphere_url)\n",
    "response = r.get(hemisphere_url)\n",
    "soup = BeautifulSoup(response.text, 'html.parser').find_all(\"a\",class_ = \"itemLink product-item\")\n",
    "hemisphere_image_urls = []\n",
    "base_url = 'https://astrogeology.usgs.gov'\n",
    "for i in soup:\n",
    "    title = i.find(\"h3\").text\n",
    "    url=i.find(\"img\")[\"src\"]\n",
    "    img_url = base_url + url\n",
    "    hemisphere_image_urls.append({\"title\": title, \"img_url\": img_url})\n",
    "    \n",
    "hemisphere_image_urls"
   ]
  },
  {
   "cell_type": "code",
   "execution_count": null,
   "metadata": {},
   "outputs": [],
   "source": []
  }
 ],
 "metadata": {
  "kernelspec": {
   "display_name": "Python 3",
   "language": "python",
   "name": "python3"
  },
  "language_info": {
   "codemirror_mode": {
    "name": "ipython",
    "version": 3
   },
   "file_extension": ".py",
   "mimetype": "text/x-python",
   "name": "python",
   "nbconvert_exporter": "python",
   "pygments_lexer": "ipython3",
   "version": "3.7.4"
  }
 },
 "nbformat": 4,
 "nbformat_minor": 2
}
